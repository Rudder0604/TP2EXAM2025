{
  "nbformat": 4,
  "nbformat_minor": 0,
  "metadata": {
    "colab": {
      "provenance": []
    },
    "kernelspec": {
      "name": "python3",
      "display_name": "Python 3"
    },
    "language_info": {
      "name": "python"
    }
  },
  "cells": [
    {
      "cell_type": "code",
      "execution_count": null,
      "metadata": {
        "id": "eJ3W_CKczSHD"
      },
      "outputs": [],
      "source": [
        "import pandas as pd\n",
        "import numpy as np\n",
        "import matplotlib.pyplot as plt\n",
        "import seaborn as sns\n",
        "%matplotlib inline"
      ]
    },
    {
      "cell_type": "code",
      "execution_count": null,
      "metadata": {
        "id": "GQ18Kd5F3uKe"
      },
      "outputs": [],
      "source": [
        "!pip install streamlit"
      ]
    },
    {
      "cell_type": "code",
      "source": [
        "import streamlit as st\n",
        "import plotly.express as px\n"
      ],
      "metadata": {
        "id": "oSx7Xml6AljU"
      },
      "execution_count": null,
      "outputs": []
    },
    {
      "cell_type": "code",
      "source": [
        "from google.colab import files\n",
        "uploaded = files.upload()"
      ],
      "metadata": {
        "id": "Fj_bWZuf2DvZ"
      },
      "execution_count": null,
      "outputs": []
    },
    {
      "cell_type": "code",
      "source": [
        "data = pd.read_csv('crime_incidents_by_category.csv')\n"
      ],
      "metadata": {
        "id": "InLC2rim2mDk"
      },
      "execution_count": null,
      "outputs": []
    },
    {
      "cell_type": "code",
      "source": [
        "data.head(10)\n"
      ],
      "metadata": {
        "id": "o6L9Xcdv3dBi"
      },
      "execution_count": null,
      "outputs": []
    },
    {
      "cell_type": "code",
      "source": [
        "data.tail(10)\n"
      ],
      "metadata": {
        "id": "8R3AZMjk3iab"
      },
      "execution_count": null,
      "outputs": []
    },
    {
      "cell_type": "code",
      "source": [
        "data.info()\n"
      ],
      "metadata": {
        "id": "NoZ9G9P43tua"
      },
      "execution_count": null,
      "outputs": []
    },
    {
      "cell_type": "code",
      "source": [
        "pd.DataFrame(data.isnull().sum(),columns=['Missing Values'])"
      ],
      "metadata": {
        "id": "bKNlRPLr3ywi"
      },
      "execution_count": null,
      "outputs": []
    },
    {
      "cell_type": "code",
      "source": [
        "data.duplicated().sum()"
      ],
      "metadata": {
        "id": "2MuVVr79368z"
      },
      "execution_count": null,
      "outputs": []
    },
    {
      "cell_type": "code",
      "source": [
        "crime_count = data.groupby('Geography')['Count'].sum().reset_index(name='count').sort_values(by='count', ascending=False)\n",
        "crime_count.reset_index(drop=True).style.bar()"
      ],
      "metadata": {
        "id": "xa_2H98g4KIF"
      },
      "execution_count": null,
      "outputs": []
    },
    {
      "cell_type": "markdown",
      "source": [
        "Amongst the 9 provinces of RSA, we can see that the top 3 hotspors are Gauteg province at number 1, followed by the Western Cape province at number 2 and the province of KwaZulu-Natal at number. These three provinces have the highest number of criminal incidences reported,"
      ],
      "metadata": {
        "id": "0Uql_9oB9cHR"
      }
    },
    {
      "cell_type": "code",
      "source": [
        "plt.figure(figsize=(10,6))\n",
        "plt.bar(crime_count['Geography'], crime_count['count'])\n",
        "plt.xlabel('Province')\n",
        "plt.ylabel('Crime Count')\n",
        "plt.title('Crime Count by Province (2011-2023)')\n",
        "plt.show()"
      ],
      "metadata": {
        "id": "AQX4vX8T5t_m"
      },
      "execution_count": null,
      "outputs": []
    },
    {
      "cell_type": "code",
      "source": [
        "crime_over_time=data.groupby('Financial Year')['Count'].sum().reset_index()\n",
        "\n",
        "plt.figure(figsize=(10,6))\n",
        "sns.lineplot(data=crime_over_time, x= 'Financial Year', y='Count',marker='o')\n",
        "plt.xlabel('Financial Year')\n",
        "plt.ylabel('Crime Count')\n",
        "plt.title('Crime Count Over Time (2011-2023)')\n",
        "plt.xticks(rotation=45)\n",
        "plt.show()"
      ],
      "metadata": {
        "id": "0eX9oGn97RRo"
      },
      "execution_count": null,
      "outputs": []
    },
    {
      "cell_type": "markdown",
      "source": [
        "The graph shows the trend in crime counts in South Africa from the 2011/2012 to the 2022/2023 financial years. Crime steadily increased from 2011/2012, peaking around 2014/2015, followed by a relatively stable period until 2018/2019. A sharp decline occurred between 2019/2020 and 2020/2021, likely due to COVID-19 lockdown restrictions. In the two most recent years (2021/2022 and 2022/2023), crime counts began rising again, indicating a gradual return to pre-pandemic levels."
      ],
      "metadata": {
        "id": "esomBrAu-VKS"
      }
    },
    {
      "cell_type": "code",
      "source": [
        "st.sidebar.title ('Dashboard Options')\n",
        "selected_column = st.sidebar.selectbox('Select a Column', data.columns)"
      ],
      "metadata": {
        "id": "lSr-nUZOC3uQ"
      },
      "execution_count": null,
      "outputs": []
    },
    {
      "cell_type": "code",
      "source": [
        "fig = px.histogram(data, x=selected_column, title=f'Distribution of {selected_column}')\n",
        "st.plotly_chart(fig)"
      ],
      "metadata": {
        "id": "1U6cksktDYXw"
      },
      "execution_count": null,
      "outputs": []
    },
    {
      "cell_type": "code",
      "source": [
        "st.title('Interactive Dashboard')\n",
        "st.markdown('This dashboard provides insights into crime incidents in South Africa.')\n",
        "show_data = st.checkbox('Show Raw Data')\n",
        "if show_data:\n",
        "  st.write(data)"
      ],
      "metadata": {
        "id": "GFRGgwjzEpgB"
      },
      "execution_count": null,
      "outputs": []
    },
    {
      "cell_type": "markdown",
      "source": [
        "To create a grid-based map of South Africa and assign crime hotspots as points of interest I would make use of Python and Plotly in such a manner:\n",
        "Tools I'll Need\n",
        "•\tPython 3.x\n",
        "•\tPlotly (pip install plotly)\n",
        "•\tJupyter Notebook or any Python IDE (e.g., VS Code)\n",
        "Step-by-Step Guide\n",
        "Step 1: Set up my environment\n",
        "Install Plotly:\n",
        "pip install plotly\n",
        "Step 2: Define the Geographic Boundaries\n",
        "South Africa roughly spans:\n",
        "•\tLatitude: -35 to -22\n",
        "•\tLongitude: 16 to 33\n",
        "Divide this into grid blocks (e.g., 1° x 1°).\n",
        "Step 3: Create the Grid\n",
        "import plotly.graphobjects as go\n",
        "\n",
        "# Define grid boundaries\n",
        "minlat, maxlat = -35, -22\n",
        "minlon, maxlon = 16, 33\n",
        "\n",
        "# Create grid lines\n",
        "gridlines = []\n",
        "for lat in range(minlat, maxlat + 1):\n",
        "    gridlines.append(go.Scattergeo(\n",
        "        lon=[minlon, maxlon],\n",
        "        lat=[lat, lat],\n",
        "        mode='lines',\n",
        "        line=dict(width=1, color='gray'),\n",
        "        showlegend=False\n",
        "    ))\n",
        "\n",
        "for lon in range(minlon, maxlon + 1):\n",
        "    gridlines.append(go.Scattergeo(\n",
        "        lon=[lon, lon],\n",
        "        lat=[minlat, maxlat],\n",
        "        mode='lines',\n",
        "        line=dict(width=1, color='gray'),\n",
        "        showlegend=False\n",
        "    ))\n",
        "Step 4: Add Crime Hotspots\n",
        "hotspots = [\n",
        "    {\"name\": \"Johannesburg\", \"lat\": -26.2041, \"lon\": 28.0473},\n",
        "    {\"name\": \"Cape Town\", \"lat\": -33.9249, \"lon\": 18.4241},\n",
        "    {\"name\": \"Durban\", \"lat\": -29.8587, \"lon\": 31.0218},\n",
        "    {\"name\": \"Pretoria\", \"lat\": -25.7479, \"lon\": 28.2293},\n",
        "    {\"name\": \"Port Elizabeth\", \"lat\": -33.9608, \"lon\": 25.6022}\n",
        "]\n",
        "\n",
        "hotspot_markers = go.Scattergeo(\n",
        "    lon=[h[\"lon\"] for h in hotspots],\n",
        "    lat=[h[\"lat\"] for h in hotspots],\n",
        "    text=[h[\"name\"] for h in hotspots],\n",
        "    mode='markers+text',\n",
        "    marker=dict(size=8, color='red'),\n",
        "    textposition='top center',\n",
        "    name='Crime Hotspots'\n",
        ")\n",
        "Step 5: Combine and Display the Map\n",
        "fig = go.Figure(data=gridlines + [hotspotmarkers])\n",
        "\n",
        "fig.updatelayout(\n",
        "    title='Crime Hotspots in South Africa with Grid Overlay',\n",
        "    geo=dict(\n",
        "        scope='africa',\n",
        "        projectiontype='mercator',\n",
        "        showland=True,\n",
        "        landcolor='rgb(217, 217, 217)',\n",
        "        showcountries=True,\n",
        "        countrycolor='black',\n",
        "        lataxis=dict(range=[minlat, maxlat]),\n",
        "        lonaxis=dict(range=[minlon, maxlon])\n",
        "    )\n",
        ")\n",
        "\n",
        "fig.show()\n",
        "All this can be possible with the use of:\n",
        "•\tReal crime data from SAPS or local sources.\n",
        "•\tAdd heatmaps or color-coded zones for severity.\n",
        "•\tIntegrate with drone patrol zones or CCTV coverage.\n",
        "•\tExport to GeoJSON or interactive dashboards.\n"
      ],
      "metadata": {
        "id": "xADXJephNU87"
      }
    },
    {
      "cell_type": "markdown",
      "source": [
        "dataset(s) link:\n",
        "1.Crime incidents by category 2011-2023 - https://www.kaggle.com/datasets/harutyunagababyan/crime-stats-of-south-africa-2011-2023\n",
        "2.Police statistics 2005-2018 - https://open.africa/dataset/9cefda6a-f897-4c1a-8f37-0666d2410696/resource/786ddfdb-c192-4fab-bb47-ea41f00cc3cb/download/policestatistics_2005-2018.csv"
      ],
      "metadata": {
        "id": "yu9c1eWxNmIN"
      }
    },
    {
      "cell_type": "markdown",
      "source": [],
      "metadata": {
        "id": "9O-K4uJtOd5A"
      }
    }
  ]
}